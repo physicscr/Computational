{
 "cells": [
  {
   "cell_type": "markdown",
   "id": "950af6a6-1e1e-44eb-bb2d-484c397dd69c",
   "metadata": {},
   "source": [
    "# Ecuación de calor"
   ]
  },
  {
   "cell_type": "markdown",
   "id": "6057fcc4-3d32-4f0e-a119-2fda40bb4011",
   "metadata": {},
   "source": [
    "Tenemos que la ecuación de calor es una de las ecuaciones diferenciales en derivadas parciales más importantes y tiene la siguiente forma\n",
    "\\begin{equation}\n",
    "    \\frac{\\partial T}{\\partial t} = c^2 \\left(\\frac{\\partial^2T}{\\partial x^2} + \\frac{\\partial^2T}{\\partial y^2}\\right)\n",
    "\\end{equation}\n",
    "donde $T(x,y,t)$ es una variable escalar que se puede relacionar con la temperatura y depende tanto de las coordenadas cartesianas como del tiempo. Para el caso de este proyecto, se considera la ecuación en dos dimensiones. Aunado a esto y para poder resolverla, se necesitan tanto condiciones iniciales como condiciones de frontera. Las condiciones iniciales las denotamos como $T(x,y,0)$ mientras que las condiciones de frontera varían dependiendo de la figura propuesta."
   ]
  },
  {
   "cell_type": "markdown",
   "id": "c95aa166-4d4e-498f-b1fc-97e6b2a2064e",
   "metadata": {},
   "source": [
    "### Metodología numérica"
   ]
  },
  {
   "cell_type": "markdown",
   "id": "b5289a8c-b6a6-4b9c-b2b0-0086f3e240bd",
   "metadata": {},
   "source": [
    "Para poder resolver estos tipos de ecuaciones diferenciales, se hacen uso de diversos métodos numéricos. La ecuación de calor es de tipo parabólica, que son las que se emplean para caracterizar problemas variables en el tiempo. El método empleado para la resolución de esta ecuación es el de diferencias finitas. Las ecuaciones parabólicas pueden resolverse sustituyendo las diferencias finitas por las derivadas parciales. Sin embargo, también tenemos que considerar los cambios en el tiempo además de los cambios en el espacio. Estas ecuaciones parabólicas están abiertas temporalmente; esto quiere decir que técnicamente la variable temporal puede seguir \"corriendo\" de manera indefinida. Debido a su naturaleza dependiente del tiempo, las soluciones a estas ecuaciones implican una serie de retos, notablemente la estabilidad.\n",
    "\n",
    "La ecuación de calor requiere una aproximación de la primera derivada en el tiempo y de la segunda derivada en el espacio para cada coordenada. Utilizando diferencias finitas, tenemos la posibilidad de escribir las derivadas parciales de la ecuación de calor como aproximaciones. Contamos con varios índices que son realmente útiles a la hora de programar y resolver de manera numérica. Los índices $i$ y $j$ son para las posiciones espaciales en $x$ y $y$ respectivamente y $l$ es el índice relacionado con el tiempo.\n",
    "\n",
    "La aproximación para la derivada temporal la podemos escribir de la siguiente manera\n",
    "\\begin{equation*}\n",
    "\\frac{\\partial T}{\\partial t} \\approx \\frac{T_{i,j}^{l+1} - T_{i,j}^{l}}{\\Delta t}\n",
    "\\end{equation*}\n",
    "donde $\\Delta t$ es el paso que se toma en el tiempo. Mientras más pequeños sean esos pasos, mejor será la aproximación. Esta expresión tiene un error de $o(\\Delta t)$, lo cual es proporcional al tamaño del paso en el tiempo. Notamos que la suma se lleva a cabo en el índice $l$, ya que este corresponde al índice asociado con el tiempo.\n",
    "\n",
    "Tenemos además que la segunda derivada con respecto a $x$ se aproxima a\n",
    "\\begin{equation*}\n",
    "\\frac{\\partial^2 T}{\\partial x^2} \\approx \\frac{T_{i+1,j}^{l} - 2T_{i,j}^{l} + T_{i-1,j}^{l}}{(\\Delta x)^2}\n",
    "\\end{equation*}\n",
    "y la aproximación para la segunda derivada con respecto a $y$ es\n",
    "\\begin{equation*}\n",
    "\\frac{\\partial^2 T}{\\partial y^2} \\approx \\frac{T_{i,j+1}^{l} - 2T_{i,j}^{l} + T_{i,j-1}^{l}}{(\\Delta y)^2}\n",
    "\\end{equation*}\n",
    "donde tanto para la segunda derivada en $x$ como en $y$ tenemos que los $\\Delta$ son los pasos que se toman en cada coordenada. Podemos notar que el índice que está sumando en la derivada con respecto a $x$ es el $i$, mientras que cuando la derivada es con respecto a $y$, sumamos en $j$. Ambas fórmulas tienen un error de $o\\left[(\\Delta x)^2\\right]$ y $o\\left[(\\Delta y)^2\\right]$ respectivamente, lo cual significa que a medida que el tamaño del paso espacial se reduce, el error disminuye al cuadrado de este tamaño.\n",
    "\n",
    "Sustituyendo estas aproximaciones en la ecuación de calor tenemos\n",
    "\n",
    "\\begin{equation}\n",
    "\\frac{T_{i,j}^{l+1} - T_{i,j}^{l}}{\\Delta t} = c^2 \\left( \\frac{T_{i+1,j}^{l} - 2T_{i,j}^{l} + T_{i-1,j}^{l}}{(\\Delta x)^2} + \\frac{T_{i,j+1}^{l} - 2T_{i,j}^{l} + T_{i,j-1}^{l}}{(\\Delta y)^2} \\right)\n",
    "\\end{equation}\n",
    "\n",
    "Ahora despejamos entonces el término $T_{i,j}^{l+1}$, que es la temperatura en el paso de tiempo siguiente (denotado por el superíndice $l+1$) y así obtenemos\n",
    "\n",
    "\\begin{equation*}\n",
    "T_{i,j}^{l+1} = T_{i,j}^{l} + c^2\\frac{\\Delta t}{(\\Delta x)^2} \\left( T_{i+1,j}^{l} - 2T_{i,j}^{l} + T_{i-1,j}^{l} \\right) + c^2\\frac{\\Delta t}{(\\Delta y)^2} \\left( T_{i,j+1}^{l} - 2T_{i,j}^{l} + T_{i,j-1}^{l} \\right)\n",
    "\\end{equation*}"
   ]
  },
  {
   "cell_type": "markdown",
   "id": "b7e18a5b-609e-4bd3-9b45-1327952efb23",
   "metadata": {},
   "source": [
    "### Solución en Python"
   ]
  },
  {
   "cell_type": "markdown",
   "id": "7dc8fd4e-8353-483d-be1f-dfdbae06c254",
   "metadata": {},
   "source": [
    "Primero implementamos el código en Python, el cuál está ampliamente comentado para saber que hacen las líneas de código"
   ]
  },
  {
   "cell_type": "code",
   "execution_count": 6,
   "id": "39e7872c-0878-423a-aef3-b0d77b1ee483",
   "metadata": {},
   "outputs": [],
   "source": [
    "import numpy as np\n",
    "import matplotlib.pyplot as plt"
   ]
  },
  {
   "cell_type": "code",
   "execution_count": 14,
   "id": "a9233e78-0f83-4cea-bd75-3d790a22285f",
   "metadata": {},
   "outputs": [],
   "source": [
    "# condiciones iniciales\n",
    "a = 110\n",
    "tamano = 50 #longitud en milimetros\n",
    "tiempo = 4 #tiempo en segundos\n",
    "nodos = 40"
   ]
  },
  {
   "cell_type": "code",
   "execution_count": 20,
   "id": "a7d0b4b5-c8ea-4cd7-9f4c-bde047fd660a",
   "metadata": {},
   "outputs": [],
   "source": [
    "# se inicializa\n",
    "dx = tamano / (nodos-1) #división de la coordenada x en pasos pequeños\n",
    "dy = tamano / (nodos-1) #división de la coordenada y en pasos pequeños\n",
    "\n",
    "dt = min(dx**2/(4*a),dy**2/(4*a))\n",
    "\n",
    "t_nodos = int(tiempo/dt) + 1\n",
    "\n",
    "u = np.zeros((nodos, nodos)) + 20 # iniciamos a 20 grados\n",
    "\n",
    "u[0, :] = np.linspace(0, 100, nodos)\n",
    "u[-1, :] = np.linspace(0, 100, nodos)\n",
    "\n",
    "u[:, 0] = np.linspace(0, 100, nodos)\n",
    "u[:, -1] = np.linspace(0, 100, nodos)"
   ]
  },
  {
   "cell_type": "code",
   "execution_count": 22,
   "id": "3b898271-3291-4240-834b-5bde826cbf5f",
   "metadata": {},
   "outputs": [
    {
     "ename": "SyntaxError",
     "evalue": "incomplete input (1713022012.py, line 15)",
     "output_type": "error",
     "traceback": [
      "\u001b[0;36m  Cell \u001b[0;32mIn[22], line 15\u001b[0;36m\u001b[0m\n\u001b[0;31m    # está incompleto\u001b[0m\n\u001b[0m                     ^\u001b[0m\n\u001b[0;31mSyntaxError\u001b[0m\u001b[0;31m:\u001b[0m incomplete input\n"
     ]
    }
   ],
   "source": [
    "# preparar gráfico\n",
    "fig, axis = plt.subplots()\n",
    "\n",
    "pcm = axis.pcolormesh(u, cmap=plt.cm.jet, vmin=0, vmax=100)\n",
    "plt.colorbar(pcm, ax=axis)\n",
    "\n",
    "contador = 0\n",
    "\n",
    "while contador < tiempo :\n",
    "\n",
    "    w = u.copy()\n",
    "\n",
    "    for i in range(1, nodos - 1):\n",
    "        for j in range(1, nodos - 1): \n",
    "# está incompleto"
   ]
  }
 ],
 "metadata": {
  "kernelspec": {
   "display_name": "Python 3 (ipykernel)",
   "language": "python",
   "name": "python3"
  },
  "language_info": {
   "codemirror_mode": {
    "name": "ipython",
    "version": 3
   },
   "file_extension": ".py",
   "mimetype": "text/x-python",
   "name": "python",
   "nbconvert_exporter": "python",
   "pygments_lexer": "ipython3",
   "version": "3.12.4"
  }
 },
 "nbformat": 4,
 "nbformat_minor": 5
}
