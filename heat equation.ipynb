{
 "cells": [
  {
   "cell_type": "markdown",
   "id": "950af6a6-1e1e-44eb-bb2d-484c397dd69c",
   "metadata": {},
   "source": [
    "# Ecuación de calor"
   ]
  },
  {
   "cell_type": "markdown",
   "id": "6057fcc4-3d32-4f0e-a119-2fda40bb4011",
   "metadata": {},
   "source": [
    "Se tiene que la ecuación de calor es una de las ecuaciones diferenciales en derivadas parciales más importantes y tiene la siguiente forma\n",
    "\\begin{equation}\n",
    "    \\frac{\\partial T}{\\partial t} = c^2 \\left(\\frac{\\partial^2T}{\\partial x^2} + \\frac{\\partial^2T}{\\partial y^2}\\right)\n",
    "\\end{equation}\n",
    "donde $T(x,y,t)$ es una variable escalar que se puede relacionar con la temperatura y depende tanto de las coordenadas cartesianas como del tiempo. Para el caso de este proyecto, se considera la ecuación en dos dimensiones. Aunado a esto y para poder resolverla, se necesitan tanto condiciones iniciales como condiciones de frontera. Las condiciones iniciales las denotamos como $T(x,y,0)$ mientras que las condiciones de frontera varían dependiendo de la figura propuesta."
   ]
  },
  {
   "cell_type": "markdown",
   "id": "c95aa166-4d4e-498f-b1fc-97e6b2a2064e",
   "metadata": {},
   "source": [
    "### Metodología numérica"
   ]
  },
  {
   "cell_type": "markdown",
   "id": "b5289a8c-b6a6-4b9c-b2b0-0086f3e240bd",
   "metadata": {},
   "source": [
    "Para poder resolver estos tipos de ecuaciones diferenciales, se hacen uso de diversos métodos numéricos. La ecuación de calor es de tipo parabólica, que son las que se emplean para caracterizar problemas variables en el tiempo. El método empleado para la resolución de esta ecuación es el de diferencias finitas. Las ecuaciones parabólicas pueden resolverse sustituyendo las diferencias finitas por las derivadas parciales. Sin embargo, también tenemos que considerar los cambios en el tiempo además de los cambios en el espacio. Estas ecuaciones parabólicas están abiertas temporalmente; esto quiere decir que técnicamente la variable temporal puede seguir \"corriendo\" de manera indefinida. Debido a su naturaleza dependiente del tiempo, las soluciones a estas ecuaciones implican una serie de retos, notablemente la estabilidad.\n",
    "\n",
    "La ecuación de calor requiere una aproximación de la primera derivada en el tiempo y de la segunda derivada en el espacio para cada coordenada. Utilizando diferencias finitas, tenemos la posibilidad de escribir las derivadas parciales de la ecuación de calor como aproximaciones. Contamos con varios indices que son realmente útiles para implementarlos a la hora de programar y resolver de manera numérica. Los índices $i$ y $j$ son para las posiciones espaciales en $x$ y $y$ respectivamente y $l$ es el índice relacionado con el tiempo.\n",
    "\n",
    "La aproximación para la derivada temporal la podemos escribir de la siguiente manera\n",
    "\\begin{equation*}\n",
    "\\frac{\\partial T}{\\partial t} \\approx \\frac{T_{i,j}^{l+1} - T_{i,j}^{l}}{\\Delta t}\n",
    "\\end{equation*}\n",
    "donde $\\Delta t$ es el paso que se toma en el tiempo. Mientras más pequeños sean esos pasos, mejor será la aproximación. Esta expresión tiene un error de $o(\\Delta t)$, lo cual es proporcional al tamaño del paso en el tiempo.\n",
    "\n",
    "Tenemos además que la segunda derivada con respecto a $x$ se aproxima a\n",
    "\\begin{equation*}\n",
    "\\frac{\\partial^2 T}{\\partial x^2} \\approx \\frac{T_{i+1,j}^{l} - 2T_{i,j}^{l} + T_{i-1,j}^{l}}{(\\Delta x)^2}\n",
    "\\end{equation*}\n",
    "y la aproximación para la segunda derivada con respecto a $y$ es\n",
    "\\begin{equation*}\n",
    "\\frac{\\partial^2 T}{\\partial y^2} \\approx \\frac{T_{i,j+1}^{l} - 2T_{i,j}^{l} + T_{i,j-1}^{l}}{(\\Delta y)^2}\n",
    "\\end{equation*}\n",
    "donde tanto para la segunda derivada en $x$ como en $y$ tenemos que los $\\Delta$ son los pasos que se toman en cada coordenada. Ambas fórmulas tienen un error de $o\\left[(\\Delta x)^2\\right]$ y $o\\left[(\\Delta y)^2\\right]$ respectivamente, lo cual significa que a medida que el tamaño del paso espacial se reduce, el error disminuye al cuadrado de este tamaño.\n",
    "\n",
    "Sustituyendo estas aproximaciones en la ecuación de calor tenemos\n",
    "\n",
    "\\begin{equation}\n",
    "\\frac{T_{i,j}^{l+1} - T_{i,j}^{l}}{\\Delta t} = c^2 \\left( \\frac{T_{i+1,j}^{l} - 2T_{i,j}^{l} + T_{i-1,j}^{l}}{(\\Delta x)^2} + \\frac{T_{i,j+1}^{l} - 2T_{i,j}^{l} + T_{i,j-1}^{l}}{(\\Delta y)^2} \\right)\n",
    "\\end{equation}\n",
    "\n",
    "Ahora despejamos entonces el término $T_{i,j}^{l+1}$, que es la temperatura en el paso de tiempo siguiente (denotado por el superíndice $l+1$) y así obtenemos\n",
    "\n",
    "\\begin{equation*}\n",
    "T_{i,j}^{l+1} = T_{i,j}^{l} + c^2\\frac{\\Delta t}{(\\Delta x)^2} \\left( T_{i+1,j}^{l} - 2T_{i,j}^{l} + T_{i-1,j}^{l} \\right) + c^2\\frac{\\Delta t}{(\\Delta y)^2} \\left( T_{i,j+1}^{l} - 2T_{i,j}^{l} + T_{i,j-1}^{l} \\right)\n",
    "\\end{equation*}"
   ]
  },
  {
   "cell_type": "code",
   "execution_count": null,
   "id": "5c5aeb57-81dc-4f7d-8335-7f4544b7fcec",
   "metadata": {},
   "outputs": [],
   "source": []
  }
 ],
 "metadata": {
  "kernelspec": {
   "display_name": "Python 3 (ipykernel)",
   "language": "python",
   "name": "python3"
  },
  "language_info": {
   "codemirror_mode": {
    "name": "ipython",
    "version": 3
   },
   "file_extension": ".py",
   "mimetype": "text/x-python",
   "name": "python",
   "nbconvert_exporter": "python",
   "pygments_lexer": "ipython3",
   "version": "3.12.4"
  }
 },
 "nbformat": 4,
 "nbformat_minor": 5
}
