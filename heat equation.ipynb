{
 "cells": [
  {
   "cell_type": "markdown",
   "id": "950af6a6-1e1e-44eb-bb2d-484c397dd69c",
   "metadata": {},
   "source": [
    "# Ecuación de calor"
   ]
  },
  {
   "cell_type": "markdown",
   "id": "6057fcc4-3d32-4f0e-a119-2fda40bb4011",
   "metadata": {},
   "source": [
    "Tenemos que la ecuación de calor es una de las ecuaciones diferenciales en derivadas parciales más importantes y tiene la siguiente forma\n",
    "\\begin{equation}\n",
    "    \\frac{\\partial T}{\\partial t} = \\alpha \\left(\\frac{\\partial^2T}{\\partial x^2} + \\frac{\\partial^2T}{\\partial y^2}\\right)\n",
    "\\end{equation}\n",
    "donde $T(x,y,t)$ es una variable escalar que se puede relacionar con la temperatura y depende tanto de las coordenadas cartesianas como del tiempo. Para el caso de este proyecto, se considera la ecuación en dos dimensiones. Aunado a esto y para poder resolverla, se necesitan tanto condiciones iniciales como condiciones de frontera. Las condiciones iniciales las denotamos como $T(x,y,0)$ mientras que las condiciones de frontera varían dependiendo de la figura propuesta."
   ]
  },
  {
   "cell_type": "markdown",
   "id": "c95aa166-4d4e-498f-b1fc-97e6b2a2064e",
   "metadata": {},
   "source": [
    "### Metodología numérica"
   ]
  },
  {
   "cell_type": "markdown",
   "id": "b5289a8c-b6a6-4b9c-b2b0-0086f3e240bd",
   "metadata": {},
   "source": [
    "Para poder resolver estos tipos de ecuaciones diferenciales, se hacen uso de diversos métodos numéricos. La ecuación de calor es de tipo parabólica, que son las que se emplean para caracterizar problemas variables en el tiempo. El método empleado para la resolución de esta ecuación es el de diferencias finitas. Las ecuaciones parabólicas pueden resolverse sustituyendo las diferencias finitas por las derivadas parciales. Sin embargo, también tenemos que considerar los cambios en el tiempo además de los cambios en el espacio. Estas ecuaciones parabólicas están abiertas temporalmente; esto quiere decir que técnicamente la variable temporal puede seguir \"corriendo\" de manera indefinida. Debido a su naturaleza dependiente del tiempo, las soluciones a estas ecuaciones implican una serie de retos, notablemente la estabilidad.\n",
    "\n",
    "La ecuación de calor requiere una aproximación de la primera derivada en el tiempo y de la segunda derivada en el espacio para cada coordenada. Utilizando diferencias finitas, tenemos la posibilidad de escribir las derivadas parciales de la ecuación de calor como aproximaciones. Contamos con varios índices que son realmente útiles a la hora de programar y resolver de manera numérica. Los índices $i$ y $j$ son para las posiciones espaciales en $x$ y $y$ respectivamente y $l$ es el índice relacionado con el tiempo.\n",
    "\n",
    "La aproximación para la derivada temporal la podemos escribir de la siguiente manera\n",
    "\\begin{equation*}\n",
    "\\frac{\\partial T}{\\partial t} \\approx \\frac{T_{i,j}^{l+1} - T_{i,j}^{l}}{\\Delta t}\n",
    "\\end{equation*}\n",
    "donde $\\Delta t$ es el paso que se toma en el tiempo. Mientras más pequeños sean esos pasos, mejor será la aproximación. Esta expresión tiene un error de $o(\\Delta t)$, lo cual es proporcional al tamaño del paso en el tiempo. Notamos que la suma se lleva a cabo en el índice $l$, ya que este corresponde al índice asociado con el tiempo.\n",
    "\n",
    "Tenemos además que la segunda derivada con respecto a $x$ se aproxima a\n",
    "\\begin{equation*}\n",
    "\\frac{\\partial^2 T}{\\partial x^2} \\approx \\frac{T_{i+1,j}^{l} - 2T_{i,j}^{l} + T_{i-1,j}^{l}}{(\\Delta x)^2}\n",
    "\\end{equation*}\n",
    "y la aproximación para la segunda derivada con respecto a $y$ es\n",
    "\\begin{equation*}\n",
    "\\frac{\\partial^2 T}{\\partial y^2} \\approx \\frac{T_{i,j+1}^{l} - 2T_{i,j}^{l} + T_{i,j-1}^{l}}{(\\Delta y)^2}\n",
    "\\end{equation*}\n",
    "donde tanto para la segunda derivada en $x$ como en $y$ tenemos que los $\\Delta$ son los pasos que se toman en cada coordenada. Podemos notar que el índice que está sumando en la derivada con respecto a $x$ es el $i$, mientras que cuando la derivada es con respecto a $y$, sumamos en $j$. Ambas fórmulas tienen un error de $o\\left[(\\Delta x)^2\\right]$ y $o\\left[(\\Delta y)^2\\right]$ respectivamente, lo cual significa que a medida que el tamaño del paso espacial se reduce, el error disminuye al cuadrado de este tamaño.\n",
    "\n",
    "Sustituyendo estas aproximaciones en la ecuación de calor tenemos\n",
    "\n",
    "\\begin{equation}\n",
    "\\frac{T_{i,j}^{l+1} - T_{i,j}^{l}}{\\Delta t} = \\alpha\\left( \\frac{T_{i+1,j}^{l} - 2T_{i,j}^{l} + T_{i-1,j}^{l}}{(\\Delta x)^2} + \\frac{T_{i,j+1}^{l} - 2T_{i,j}^{l} + T_{i,j-1}^{l}}{(\\Delta y)^2} \\right)\n",
    "\\end{equation}\n",
    "\n",
    "Ahora despejamos entonces el término $T_{i,j}^{l+1}$, que es la temperatura en el paso de tiempo siguiente (denotado por el superíndice $l+1$) y así obtenemos\n",
    "\n",
    "\\begin{equation*}\n",
    "T_{i,j}^{l+1} = T_{i,j}^{l} + \\alpha \\frac{\\Delta t}{(\\Delta x)^2} \\left( T_{i+1,j}^{l} - 2T_{i,j}^{l} + T_{i-1,j}^{l} \\right) + \\alpha \\frac{\\Delta t}{(\\Delta y)^2} \\left( T_{i,j+1}^{l} - 2T_{i,j}^{l} + T_{i,j-1}^{l} \\right)\n",
    "\\end{equation*}"
   ]
  },
  {
   "cell_type": "markdown",
   "id": "b7e18a5b-609e-4bd3-9b45-1327952efb23",
   "metadata": {},
   "source": [
    "### Solución en Python"
   ]
  },
  {
   "cell_type": "markdown",
   "id": "7dc8fd4e-8353-483d-be1f-dfdbae06c254",
   "metadata": {},
   "source": [
    "Primero implementamos el código en Python, el cuál está ampliamente comentado para saber que hacen las líneas de código."
   ]
  },
  {
   "cell_type": "code",
   "execution_count": null,
   "id": "f6a28416-ab93-4836-be2f-6625e01b8245",
   "metadata": {},
   "outputs": [],
   "source": [
    "import numpy as np\n",
    "import matplotlib.pyplot as plt\n",
    "import matplotlib.animation as animation\n",
    "from matplotlib.animation import FuncAnimation\n",
    "import time"
   ]
  },
  {
   "cell_type": "markdown",
   "id": "d58b8c54-a350-4370-9d67-fb33518c5d7a",
   "metadata": {},
   "source": [
    "Para nuestro caso, vamos a tomar la placa en dos dimensiones como un cuadrado. Con esta consideración podemos definir ciertas cosas que facilitan la compresión e implementación del método numérico. Si lo tomamos como un cuadrado, tenemos que $\\Delta x = \\Delta y$ y así podemos definir entonces el término $T^{l+1}_{i,j}$ como \n",
    "\\begin{align*}\n",
    "T_{i,j}^{l+1} = T_{i,j}^{l} + \\alpha \\frac{\\Delta t}{(\\Delta x)^2} \\left( T_{i+1,j}^{l} - 2T_{i,j}^{l} + T_{i-1,j}^{l} \\right) + \\alpha \\frac{\\Delta t}{(\\Delta x)^2} \\left( T_{i,j+1}^{l} - 2T_{i,j}^{l} + T_{i,j-1}^{l} \\right) = T_{i,j}^{l} + \\alpha \\frac{\\Delta t}{(\\Delta x)^2} \\left(T_{i+1,j}^{l} + T_{i-1,j}^{l} + T_{i,j+1}^{l} + T_{i,j-1}^{l} - 4T_{i,j}^{l} \\right)\n",
    "\\end{align*}\n",
    "\n",
    "Vamos entonces a definir como una variable nueva llamada $\\gamma$ el factor que depende tanto de la constante de difusión como del paso temporal y el paso espacial. Por lo tanto $$\\gamma = \\alpha \\dfrac{\\Delta t}{(\\Delta x)^2}$$ y así escribimos que \n",
    "\\begin{align*}\n",
    "T_{i,j}^{l+1}  = T_{i,j}^{l} + \\gamma \\left(T_{i+1,j}^{l} + T_{i-1,j}^{l} + T_{i,j+1}^{l} + T_{i,j-1}^{l} - 4T_{i,j}^{l} \\right)\n",
    "\\end{align*}\n",
    "\n",
    "Hay un factor muy importante a tomar en cuenta y es la estabilidad del método para ecuaciones diferenciales de este tipo. En el contexto de la ecuación de difusión (como la ecuación del calor), la condición de Courant garantiza la estabilidad de los métodos de diferencias finitas para la resolución numérica de ecuaciones diferenciales parciales. Para la ecuación de difusión unidimensional, el criterio de estabilidad viene dado por $$\\Delta t \\leq \\dfrac{(\\Delta x)^2}{2 \\alpha}$$ sin embargo, usamos una condición aún más restrictiva cambiando el 2 por un 4 para asegurar la estabilidad numérica de la solución y no obtener respuestas sin sentido. Con esto seguimos entonces definiendo en Python más variables.\n",
    "\n",
    "Definimos el tamaño de la cuadrícula de una dimensión de 50x50, en donde se calculará la distribución de temperatura a lo largo del tiempo y también definimos el número de pasos temporales para ver la evolución de la misma."
   ]
  },
  {
   "cell_type": "code",
   "execution_count": null,
   "id": "5c9f1cd9-e312-44f6-bdc6-4da68b332382",
   "metadata": {},
   "outputs": [],
   "source": [
    "inicio = time.time()\n",
    "print(\"2D heat equation solver\")\n",
    "\n",
    "largo = 50   #dimensión de la placa (también es su ancho)\n",
    "iteraciones = 1000   #iteraciones en el tiempo\n",
    "\n",
    "alpha = 2   #número arbitrario para la constante de difusión, podría ser cualquiera\n",
    "delta_x = 1   #paso espacial \n",
    "delta_t = (delta_x ** 2)/(4 * alpha)\n",
    "gamma = (alpha * delta_t) / (delta_x ** 2)"
   ]
  },
  {
   "cell_type": "markdown",
   "id": "1a094a59-5273-4697-a1d1-c84e15554bcf",
   "metadata": {},
   "source": [
    "Tenemos entonces una matriz tridimensional para almacenar la temperatura en cada punto de la malla para cada paso temporal. Además de eso damos un valor inicial de temperatura en todos los puntos de la malla aparte de definir las temperaturas que queremos en cada uno de los extremos de la placa. "
   ]
  },
  {
   "cell_type": "code",
   "execution_count": null,
   "id": "af835d5e-12c6-4f97-add7-938cbd8563f8",
   "metadata": {},
   "outputs": [],
   "source": [
    "T = np.empty((iteraciones, largo, largo))   #iniciar la solución de la malla para  T(l, i, j)\n",
    "\n",
    "T_inicial = 0   #condición inicial de temperatura \n",
    "\n",
    "#condiciones de frontera \n",
    "T_sup = 100.0   #superior\n",
    "T_izq = 50.0   #izquiera\n",
    "T_inf = 25.0   #inferior\n",
    "T_der = 0.0   #derecha\n",
    "\n",
    "T.fill(T_inicial)   #llenamos toda la matriz T con el valor inicial 0\n",
    "\n",
    "# establecemos la condiciones de frontera\n",
    "T[:, (largo-1):, :] = T_sup\n",
    "T[:, :, :1] = T_izq\n",
    "T[:, :1, 1:] = T_inf\n",
    "T[:, :, (largo-1):] = T_der"
   ]
  },
  {
   "cell_type": "markdown",
   "id": "e270e345-e780-40ce-b81b-bb99680a83b5",
   "metadata": {},
   "source": [
    "Se están utilizando arrays multidimensionales de NumPy para asignar valores a subconjuntos específicos de la matriz tridimensional $T$.\n",
    "`T` es un array tridimensional de NumPy (np.ndarray) de dimensiones (iteraciones, largo, largo). En NumPy, el operador de `slicing (:)` se utiliza para seleccionar subconjuntos de un array. La lógica para la definición de las condiciones de frontera es la siguiente\n",
    "\n",
    "- `:` en la primera dimensión selecciona todos los pasos temporales, `(largo-1)` en la segunda dimensión selecciona la última fila de la cuadrícula (borde superior) y `:` en la tercera dimensión selecciona todas las columnas en esa fila.\n",
    "- `:1` en la tercera dimensión selecciona la primera columna de la cuadrícula (borde izquierdo).\n",
    "- `:1` en la segunda dimensión selecciona la primera fila de la cuadrícula (borde inferior) y `1` en la tercera dimensión selecciona todas las columnas excepto la primera (para evitar asignar dos veces el punto (0,0) que ya se establece con `T_izq`).\n",
    "- `(largo-1)` en la tercera dimensión selecciona la última columna de la cuadrícula (borde derecho).\n",
    "\n",
    "Con todas las condiciones de frontera listas, ya podemos finalmente calcular el término $T^{l+1}_{i,j}$, el cual usa los valores anteriores de $T$ así como distintos valores de la temperatura para pasos en las diferentes coordenadas. "
   ]
  },
  {
   "cell_type": "code",
   "execution_count": null,
   "id": "a2d986a1-7bd5-4e1b-822d-554f1e0f685d",
   "metadata": {},
   "outputs": [],
   "source": [
    "def calculate(T):\n",
    "    for l in range(0, iteraciones-1, 1):\n",
    "        for i in range(1, largo-1, delta_x):\n",
    "            for j in range(1, largo-1, delta_x):\n",
    "                T[l + 1, i, j] = T[l][i][j] + gamma * (T[l][i+1][j] + T[l][i-1][j] + T[l][i][j+1] + T[l][i][j-1] - 4*T[l][i][j])\n",
    "\n",
    "    return T\n",
    "\n",
    "fin = time.time()\n",
    "print(fin-inicio)"
   ]
  },
  {
   "cell_type": "markdown",
   "id": "f29e7f78-d0f0-448f-8156-7e1cf709c62b",
   "metadata": {},
   "source": [
    "Solo nos queda cambiar las condiciones iniciales para la temperatura interna de la placa como la temperatura en cada una de las fronteras y observar el comportamiento. Con las condiciones iniciales y de frontera deseadas, procedemos entonces con la graficación del resultado para una mayor comprensión. Con la siguiente función dibujamos un mapa de colores de la temperatura en la cuadrícula para el paso temporal $l$. Procuramos limpiar la figura actual de Matplotlib, eliminando cualquier contenido previo (gráficos, etiquetas, etc.), lo cual nos garantiza que cada nueva llamada a la función comience con un gráfico vacío, evitando superposiciones con gráficos anteriores."
   ]
  },
  {
   "cell_type": "code",
   "execution_count": null,
   "id": "c228a8fb-0a06-4849-9b6e-242a894d0a1a",
   "metadata": {},
   "outputs": [],
   "source": [
    "def mapa(T_l, l):\n",
    "\n",
    "    plt.clf() #gráfico vacío\n",
    "\n",
    "    plt.title(f\"Temperatura en t = {l*delta_t:.3f} unidades temporales\")\n",
    "    plt.xlabel(\"x(t)\")\n",
    "    plt.ylabel(\"y(t)\")\n",
    "\n",
    "    plt.pcolormesh(T_l, cmap=\"hot\", vmin=0, vmax=100) #esquema de colores\n",
    "    plt.colorbar() #barra de colores\n",
    "\n",
    "    return plt\n",
    "\n",
    "# Calculamos la evolución de la temperatura en toda la cuadrícula.\n",
    "T = temperatura(T)\n",
    "\n",
    "def animate(l):\n",
    "    mapa(T[l], l)\n",
    "\n",
    "anim = animation.FuncAnimation(plt.figure(), animate, interval=10, frames=iteraciones, repeat=False)\n",
    "\n",
    "anim.save(\"heat_equation_solution.mp4\") #guardar\n",
    "\n",
    "fin2 = time.time()\n",
    "print(fin2-inicio)"
   ]
  },
  {
   "cell_type": "markdown",
   "id": "d69524e3-24f8-4232-aaec-00ced1246cd3",
   "metadata": {},
   "source": [
    "En en título de gráfico tenemos que `delta_t` es el intervalo de tiempo entre pasos, mientras que `l*delta_t`calcula el tiempo real asociado al paso actual y `:.3f` formatea el tiempo para mostrar 3 decimales. Asímismo, lo que hicimos fue crear un mapa de colores basado en los valores de `T_l`, la matriz bidimensional de temperaturas en un paso temporal específico, donde `vmin=0, vmax=100` establece los límites de la escala de colores.\n",
    "\n",
    "Posteriormente generamos una visualización para el paso temporal $l$ y tenemos que el parámetro `interval=10` declara el tiempo entre cuadros en milisegundos y el parámetro `frames=iteraciones` declara el número de cuadros, que es uno por cada iteración. La animación basicamente actualiza la cuadrícula en función del tiempo."
   ]
  },
  {
   "cell_type": "markdown",
   "id": "2d1d473f-ebc8-423e-be50-49e2bec1918a",
   "metadata": {},
   "source": [
    "### Distintas condiciones iniciales"
   ]
  },
  {
   "cell_type": "markdown",
   "id": "00bcdb3f-69de-4e2f-9dd9-256d1bda40cb",
   "metadata": {},
   "source": [
    "Con las primeras condiciones iniciales y de frontera, obtuvimos una animación que muestra como se distribuye la temperatura por la placa. Ahora cambiamos las condiciones y el código para conocer el comportamiento en distintas configuraciones. Iniciamos con la placa en $0^{\\circ}$ y cada extremo a una temperatura distinta. Ahora ponemos la placa a $100^{\\circ}$ y cada extremo a $0^{\\circ}$ para visualizar la conducta.\n",
    "\n",
    "Los cambios realizados al código son"
   ]
  },
  {
   "cell_type": "code",
   "execution_count": null,
   "id": "cced8d5e-4d9c-40a1-8c27-2890bd16ce01",
   "metadata": {},
   "outputs": [],
   "source": [
    "T_inicial = 100.0   #condición inicial de temperatura \n",
    "\n",
    "#condiciones de frontera \n",
    "T_sup = 0.0   #superior\n",
    "T_izq = 0.0   #izquiera\n",
    "T_inf = 0.0   #inferior\n",
    "T_der = 0.0   #derecha\n",
    "\n",
    "#T.fill(T_inicial)   #llenamos toda la matriz T con el valor inicial 0\n",
    "T[0, :, :] = T_inicial"
   ]
  },
  {
   "cell_type": "markdown",
   "id": "ca30c652-bdfb-4d60-b2c0-fe6762af1d01",
   "metadata": {},
   "source": [
    "donde establecemos para el tiempo inicial (o primera iteración con `0`) la temperatura inicial y se le asigna a todas las filas y columnas con `[:, ;]`. \n",
    "\n",
    "En todo momento hemos utilizado condiciones de frontera estáticas, ya que la temperatura de los extremos de la placa es la misma en todo momento. No obstante, también se puede programar condiciones de frontera dinámicas y que la temperatura cambie en los bordes de alguna manera mientras transcurre el tiempo. Utilizamos entonces condiciones oscilantes periódicas con funciones trigonométricas. Tenemos que estas se definen como \n",
    "\\begin{equation*}\n",
    "    T_\\text{frontera}(l)= T_\\text{random}+ 50\\sin\\left( \\frac{2\\pi l}{100}\\right)\n",
    "\\end{equation*}\n",
    "donde $50$ representa una amplitud y $100$ es el periodo, que en este caso es la cantidad de iteraciones para que se complete un ciclo. Si el periodo es $100$, cada $100$ iteraciones las temperaturas vuelven a su punto de partida. Este cambio en las condiciones de frontera supone un cambio en el código."
   ]
  },
  {
   "cell_type": "code",
   "execution_count": null,
   "id": "71e14c2d-0deb-41cb-a733-ff512febcd2f",
   "metadata": {},
   "outputs": [],
   "source": [
    "T_inicial = 10.0\n",
    "T.fill(T_inicial)\n",
    "\n",
    "def temperatura(T):\n",
    "\n",
    "    for l in range(0, iteraciones-1, 1):\n",
    "        # condiciones de frontera dinámicas en cada iteración\n",
    "        T[l, 0, :] = 25 + 50 * np.sin(2 * np.pi * l / 100)     # superior\n",
    "        T[l, -1, :] = 0 + 50 * np.sin(2 * np.pi * l / 100)     # inferior\n",
    "        T[l, :, 0] = 50 + 50 * np.sin(2 * np.pi * l / 100)     # izquierda\n",
    "        T[l, :, -1] = 75 + 50 * np.sin(2 * np.pi * l / 100)    # derecha\n",
    "\n",
    "    for l in range(0, iteraciones-1, 1):\n",
    "        for i in range(1, largo-1, delta_x):\n",
    "            for j in range(1, largo-1, delta_x):\n",
    "                T[l + 1, i, j] = T[l][i][j] + gamma * (T[l][i+1][j] + T[l][i-1][j] + T[l][i][j+1] + T[l][i][j-1] - 4*T[l][i][j])\n",
    "\n",
    "\n",
    "    return T"
   ]
  },
  {
   "cell_type": "markdown",
   "id": "eb205415-0a51-4c4d-b5b1-e683d4afe3b8",
   "metadata": {},
   "source": [
    "Anidamos otro `for`en la función de temperatura para que también corra con las iteraciones. Tenemos entonces que las temperaturas suban y bajan de manera periódica entre $T_\\text{random} \\pm A$. Aparte de eso, podemos cambiar las funciones trigonométricas. Para otro set de condiciones dinámicas tenemos que "
   ]
  },
  {
   "cell_type": "code",
   "execution_count": null,
   "id": "79a2fb29-38ff-4a57-8fec-2392de1a6836",
   "metadata": {},
   "outputs": [],
   "source": [
    "        T[l, 0, :] = 0 + 50 * np.sin(2 * np.pi * l / 100)      # superior\n",
    "        T[l, -1, :] = 50 + 50 * np.cos(2 * np.pi * l / 100)    # inferior\n",
    "        T[l, :, 0] = 25 + 50 * np.cos(2 * np.pi * l / 100)     # izquierda\n",
    "        T[l, :, -1] = 75 + 50 * np.sin(2 * np.pi * l / 100)    # derecha"
   ]
  },
  {
   "cell_type": "markdown",
   "id": "d661487a-1c6d-46cc-b1be-de9268157acf",
   "metadata": {},
   "source": [
    "Se puede entonces jugar con la temperatura aleatoria inicial que queremos, la amplitud asociada a la función trigonométrica y el periodo de oscilación, dando resulta a distintas combinaciones que producen distintas animaciones."
   ]
  }
 ],
 "metadata": {
  "kernelspec": {
   "display_name": "Python 3 (ipykernel)",
   "language": "python",
   "name": "python3"
  },
  "language_info": {
   "codemirror_mode": {
    "name": "ipython",
    "version": 3
   },
   "file_extension": ".py",
   "mimetype": "text/x-python",
   "name": "python",
   "nbconvert_exporter": "python",
   "pygments_lexer": "ipython3",
   "version": "3.12.4"
  }
 },
 "nbformat": 4,
 "nbformat_minor": 5
}
